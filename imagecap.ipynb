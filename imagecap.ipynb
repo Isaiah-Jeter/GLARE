{
 "cells": [
  {
   "cell_type": "code",
   "execution_count": 1,
   "metadata": {},
   "outputs": [],
   "source": [
    "# importing libraries\n",
    "\n",
    "import pyautogui\n",
    "import time\n",
    "\n",
    "# initializing variables for image processing\n",
    "\n",
    "screenshot = pyautogui.screenshot()\n",
    "\n",
    "# specifiying the path to save the image\n",
    "# matthew macbook m2 air dimensions 2560 x 1664\n",
    "\n",
    "folder_path = \"/Users/christianjohnson/Downloads/Glare/Saved_Images\""
   ]
  },
  {
   "cell_type": "code",
   "execution_count": 7,
   "metadata": {},
   "outputs": [
    {
     "name": "stdout",
     "output_type": "stream",
     "text": [
      "Screenshot 0 saved to /Users/christianjohnson/Downloads/Glare/Saved_Images/screenshot_0.png\n",
      "Screenshot 1 saved to /Users/christianjohnson/Downloads/Glare/Saved_Images/screenshot_1.png\n",
      "Screenshot 2 saved to /Users/christianjohnson/Downloads/Glare/Saved_Images/screenshot_2.png\n",
      "Screenshot 3 saved to /Users/christianjohnson/Downloads/Glare/Saved_Images/screenshot_3.png\n",
      "Screenshot 4 saved to /Users/christianjohnson/Downloads/Glare/Saved_Images/screenshot_4.png\n",
      "Screenshot 5 saved to /Users/christianjohnson/Downloads/Glare/Saved_Images/screenshot_5.png\n",
      "Screenshot 6 saved to /Users/christianjohnson/Downloads/Glare/Saved_Images/screenshot_6.png\n",
      "Screenshot 7 saved to /Users/christianjohnson/Downloads/Glare/Saved_Images/screenshot_7.png\n",
      "Screenshot 8 saved to /Users/christianjohnson/Downloads/Glare/Saved_Images/screenshot_8.png\n",
      "Screenshot 9 saved to /Users/christianjohnson/Downloads/Glare/Saved_Images/screenshot_9.png\n",
      "Final screenshot saved to /Users/christianjohnson/Downloads/Glare/Saved_Images/final_screenshot.png\n"
     ]
    }
   ],
   "source": [
    "# Specify the folder path to save the screenshots\n",
    "folder_path = \"/Users/christianjohnson/Downloads/Glare/Saved_Images\"\n",
    "\n",
    "# Specify the duration and interval (in seconds)\n",
    "duration = 1  # Total time in seconds\n",
    "interval = 0.1   # Time between each screenshot in seconds\n",
    "\n",
    "# Capture screenshots at regular intervals\n",
    "start_time = time.time()\n",
    "for i in range(int(duration / interval)):\n",
    "    screenshot_path = f\"{folder_path}/screenshot_{i}.png\"\n",
    "    screenshot = pyautogui.screenshot()\n",
    "    screenshot.save(screenshot_path)\n",
    "    print(f\"Screenshot {i} saved to {screenshot_path}\")\n",
    "    time.sleep(interval)  # Wait for the specified interval\n",
    "\n",
    "# Capture the final screenshot\n",
    "final_screenshot_path = f\"{folder_path}/final_screenshot.png\"\n",
    "final_screenshot = pyautogui.screenshot()\n",
    "final_screenshot.save(final_screenshot_path)\n",
    "print(f\"Final screenshot saved to {final_screenshot_path}\")"
   ]
  },
  {
   "cell_type": "code",
   "execution_count": 10,
   "metadata": {},
   "outputs": [],
   "source": [
    "# Conversion of images to video\n",
    "\n",
    "import cv2\n",
    "import os\n",
    "\n",
    "def images_to_video(image_folder, video_name, fps):\n",
    "    images = [img for img in os.listdir(image_folder) if img.endswith(\".png\")]\n",
    "    frame = cv2.imread(os.path.join(image_folder, images[0]))\n",
    "    height, width, layers = frame.shape\n",
    "\n",
    "    video = cv2.VideoWriter(video_name, cv2.VideoWriter_fourcc(*'mp4v'), fps, (width, height))\n",
    "\n",
    "    for image in images:\n",
    "        video.write(cv2.imread(os.path.join(image_folder, image)))\n",
    "\n",
    "    cv2.destroyAllWindows()\n",
    "    video.release()\n",
    "\n",
    "# Provide the path to the folder containing images, desired output video name, and frame rate\n",
    "image_folder = '/Users/christianjohnson/Downloads/Glare/Saved_Images'\n",
    "video_name = 'demoGLARE.mp4'\n",
    "fps = 1  # Adjust the frame rate as per your requirement\n",
    "\n",
    "images_to_video(image_folder, video_name, fps)"
   ]
  }
 ],
 "metadata": {
  "kernelspec": {
   "display_name": "Python 3",
   "language": "python",
   "name": "python3"
  },
  "language_info": {
   "codemirror_mode": {
    "name": "ipython",
    "version": 3
   },
   "file_extension": ".py",
   "mimetype": "text/x-python",
   "name": "python",
   "nbconvert_exporter": "python",
   "pygments_lexer": "ipython3",
   "version": "3.10.6"
  }
 },
 "nbformat": 4,
 "nbformat_minor": 2
}
