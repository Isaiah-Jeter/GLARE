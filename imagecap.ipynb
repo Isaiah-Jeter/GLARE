{
 "cells": [
  {
   "cell_type": "code",
   "execution_count": 1,
   "metadata": {},
   "outputs": [],
   "source": [
    "# importing libraries\n",
    "\n",
    "import pyautogui\n",
    "import time\n",
    "\n",
    "# initializing variables for image processing\n",
    "\n",
    "screenshot = pyautogui.screenshot()\n",
    "\n",
    "# specifiying the path to save the image\n",
    "# matthew macbook m2 air dimensions 2560 x 1664\n",
    "\n",
    "folder_path = \"/Users/christianjohnson/Downloads/Glare/Saved_Images\""
   ]
  },
  {
   "cell_type": "code",
   "execution_count": 2,
   "metadata": {},
   "outputs": [],
   "source": [
    "# loop saving images to file\n",
    "\n",
    "\"\"\" \n",
    "    duration: int - time in seconds to capture image\n",
    "    x: int - x coordinate of the image\n",
    "    y: int - y coordinate of the image\n",
    "    width: int - width of the image\n",
    "    height: int - height of the image\n",
    "\"\"\"\n",
    "def save_image(duration, x, y, width, height):\n",
    "    # specific region for capture (x, y, width, height)\n",
    "    region = pyautogui.screenshot(region=(x, y, width, height))\n",
    "\n",
    "    for i in range(duration):\n",
    "        screenshot.save(f'/Users/christianjohnson/Downloads/Glare/Saved_Images/screenshot_{i}.png')\n",
    "        region.save(f'/Users/christianjohnson/Downloads/Glare/Saved_Images/screenshot_{i}.png')\n",
    "        time.sleep(1)"
   ]
  },
  {
   "cell_type": "code",
   "execution_count": 3,
   "metadata": {},
   "outputs": [],
   "source": [
    "# calling function\n",
    "\n",
    "save_image(5, 0, 0, 1920, 1080)"
   ]
  }
 ],
 "metadata": {
  "kernelspec": {
   "display_name": "Python 3",
   "language": "python",
   "name": "python3"
  },
  "language_info": {
   "codemirror_mode": {
    "name": "ipython",
    "version": 3
   },
   "file_extension": ".py",
   "mimetype": "text/x-python",
   "name": "python",
   "nbconvert_exporter": "python",
   "pygments_lexer": "ipython3",
   "version": "3.10.6"
  }
 },
 "nbformat": 4,
 "nbformat_minor": 2
}
