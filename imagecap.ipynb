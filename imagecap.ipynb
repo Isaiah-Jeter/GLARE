{
 "cells": [
  {
   "cell_type": "code",
   "execution_count": 40,
   "metadata": {},
   "outputs": [],
   "source": [
    "import numpy as np\n",
    "from PIL import ImageGrab, Image\n",
    "%matplotlib inline\n",
    "import matplotlib.pyplot as plt\n",
    "import matplotlib.image as mpimg"
   ]
  },
  {
   "cell_type": "code",
   "execution_count": 41,
   "metadata": {},
   "outputs": [],
   "source": [
    "# importing libraries\n",
    "\n",
    "import pyautogui\n",
    "import time\n",
    "\n",
    "# initializing variables for image processing\n",
    "\n",
    "screenshot = pyautogui.screenshot()\n",
    "\n",
    "# specifiying the path to save the image\n",
    "# matthew macbook m2 air dimensions 2560 x 1664\n",
    "\n",
    "folder_path = \"/Users/christianjohnson/Downloads/Glare/Saved_Images\""
   ]
  },
  {
   "cell_type": "code",
   "execution_count": 42,
   "metadata": {},
   "outputs": [
    {
     "name": "stderr",
     "output_type": "stream",
     "text": [
      "[ WARN:0@5376.561] global loadsave.cpp:248 findDecoder imread_('/Users/christianjohnson/Downloads/Glare/testPylonImages/Basler_acA1300-200um__24681880__20240430_200842309_00100.tiff'): can't open/read file: check file path/integrity\n"
     ]
    }
   ],
   "source": [
    "# Conversion of images to video\n",
    "\n",
    "import cv2\n",
    "import os\n",
    "\n",
    "folder_size = 123\n",
    "\n",
    "\n",
    "def images_to_video(image_folder, video_name, fps):\n",
    "    #images = [img for img in os.listdir(image_folder) if img.endswith(\".tiff\")]\n",
    "    start = 17\n",
    "    end = folder_size+17\n",
    "    images = []\n",
    "    for i in range(start, end):\n",
    "        if i > 100:\n",
    "            name=\"/Users/christianjohnson/Downloads/Glare/testPylonImages/Basler_acA1300-200um__24681880__20240430_200842309_0\"\n",
    "        else:\n",
    "            name=\"/Users/christianjohnson/Downloads/Glare/testPylonImages/Basler_acA1300-200um__24681880__20240430_200842309_00\"\n",
    "        name+=str(i)\n",
    "        name+=\".tiff\"\n",
    "        #print(name)\n",
    "        images.append(name)\n",
    "        \n",
    "    frame = cv2.imread(os.path.join(image_folder, images[0]))\n",
    "    height, width, layers = frame.shape\n",
    "    video = cv2.VideoWriter(video_name, cv2.VideoWriter_fourcc(*'mp4v'), fps, (width, height))\n",
    "\n",
    "    for image in images:\n",
    "        video.write(cv2.imread(os.path.join(image_folder, image)))\n",
    "\n",
    "    cv2.destroyAllWindows()\n",
    "    video.release()\n",
    "\n",
    "# Provide the path to the folder containing images, desired output video name, and frame rate\n",
    "image_folder = '/Users/christianjohnson/Downloads/Glare/testPylonImages'\n",
    "video_name = 'demoGLARE.mp4'\n",
    "fps = 1  # Adjust the frame rate as per your requirement\n",
    "\n",
    "images_to_video(image_folder, video_name, fps)"
   ]
  },
  {
   "cell_type": "code",
   "execution_count": 69,
   "metadata": {},
   "outputs": [],
   "source": [
    "\"\"\"\n",
    "    universal_blocking takes an array of of any shape and a jump value. \n",
    "    It then finds the maximum average value of a block of size jump x jump\n",
    "\"\"\"\n",
    "def universal_blocking(array, jump):\n",
    "    # Deriving the array demensions then trimming for ease of indexing\n",
    "    r, c = array.shape\n",
    "    r -= r%10\n",
    "    c -= c%10\n",
    "    array = array/255.\n",
    "    #print(array.shape)\n",
    "    ar1 = np.arange(0,r-1, jump)\n",
    "    ar2 = np.arange(0,c-1, jump)\n",
    "    max_value = 0.\n",
    "    coord = ()\n",
    "\n",
    "\n",
    "\n",
    "    # for i in ar1:\n",
    "    #     for j in ar2:\n",
    "    #         b_sum=0\n",
    "    #         for i2 in range(square)\n",
    "\n",
    "\n",
    "\n",
    "\n",
    "    for i in ar1:\n",
    "        for j in ar2:\n",
    "            b_sum = 0\n",
    "            for i2 in range(jump):\n",
    "                for j2 in range(jump):\n",
    "                    #print(i+i2, j+j2)\n",
    "                    b_sum += array[i+i2][j+j2]\n",
    "            current_average = b_sum/(jump^2)\n",
    "            if(current_average > max_value):\n",
    "                #print(current_average, (i, j))\n",
    "                max_value = current_average\n",
    "                coord=(i,j)\n",
    "    return coord\n",
    "\n",
    "#coordmt = universal_blocking(heatmap,10)\n",
    "#print(coordmt)"
   ]
  },
  {
   "cell_type": "code",
   "execution_count": 87,
   "metadata": {},
   "outputs": [
    {
     "name": "stdout",
     "output_type": "stream",
     "text": [
      "/Users/christianjohnson/Downloads/Glare/Saved_Images.DS_Store\n",
      "/Users/christianjohnson/Downloads/Glare/Saved_Imagesimage.png\n"
     ]
    }
   ],
   "source": [
    "def overlay(tiff_path, jump):   \n",
    "    im = Image.open(tiff_path)\n",
    "    imarray = np.array(im)\n",
    "    #print(imarray)\n",
    "    #print(imarray[0][1024])\n",
    "    #return\n",
    "    coord = universal_blocking(imarray,jump)\n",
    "    for i in range(jump):\n",
    "        for j in range(jump):\n",
    "            imarray[(coord[0]+i),(coord[1]+j)] = 0\n",
    "    print(coord)\n",
    "    imarray*=255\n",
    "    im = Image.fromarray(imarray)\n",
    "    imgplot = plt.imshow(im)\n",
    "\n",
    "        \n",
    "\n",
    "\n",
    "#print(overlay(heatmap,100))\n",
    "\n",
    "start = 17\n",
    "end = folder_size+17\n",
    "images = []\n",
    "for i in range(start, end):\n",
    "    if i > 100:\n",
    "        name=\"/Users/christianjohnson/Downloads/Glare/testPylonImages/Basler_acA1300-200um__24681880__20240430_200842309_0\"\n",
    "    else:\n",
    "        name=\"/Users/christianjohnson/Downloads/Glare/testPylonImages/Basler_acA1300-200um__24681880__20240430_200842309_00\"\n",
    "    name+=str(i)\n",
    "    name+=\".tiff\"\n",
    "    images.append(name)\n",
    "\n",
    "#for tiff_path in images:\n",
    "#    overlay(tiff_path, 10)\n",
    "#overlay(images[70], 10)\n",
    "# img = Image.open(images[70])\n",
    "# plt.imshow(img)\n",
    "\n",
    "for infile in os.listdir(folder_path):\n",
    "    print(folder_path + infile)\n",
    "    if infile[-3:] == \"tif\" or infile[-3:] == \"bmp\" :\n",
    "       # print \"is tif or bmp\"\n",
    "       outfile = infile[:-3] + \"jpeg\"\n",
    "       im = Image.open(infile)\n",
    "       print(\"new filename : \" + outfile)\n",
    "       out = im.convert(\"RGB\")\n",
    "       out.save(outfile, \"JPEG\", quality=90)\n"
   ]
  },
  {
   "cell_type": "code",
   "execution_count": null,
   "metadata": {},
   "outputs": [],
   "source": [
    "for infile in os.listdir(\"./\"):\n",
    "    print \"file : \" + infile\n",
    "    if infile[-3:] == \"tif\" or infile[-3:] == \"bmp\" :\n",
    "       # print \"is tif or bmp\"\n",
    "       outfile = infile[:-3] + \"jpeg\"\n",
    "       im = Image.open(infile)\n",
    "       print \"new filename : \" + outfile\n",
    "       out = im.convert(\"RGB\")\n",
    "       out.save(outfile, \"JPEG\", quality=90)"
   ]
  }
 ],
 "metadata": {
  "kernelspec": {
   "display_name": "Python 3",
   "language": "python",
   "name": "python3"
  },
  "language_info": {
   "codemirror_mode": {
    "name": "ipython",
    "version": 3
   },
   "file_extension": ".py",
   "mimetype": "text/x-python",
   "name": "python",
   "nbconvert_exporter": "python",
   "pygments_lexer": "ipython3",
   "version": "3.10.6"
  }
 },
 "nbformat": 4,
 "nbformat_minor": 2
}
