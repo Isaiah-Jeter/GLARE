{
 "cells": [
  {
   "cell_type": "code",
   "execution_count": null,
   "metadata": {},
   "outputs": [],
   "source": [
    "import numpy as np\n",
    "from PIL import ImageGrab, Image\n",
    "import matplotlib.pyplot as plt\n",
    "\n",
    "path = '/Users/christianjohnson/Downloads/Image__2024-01-18__20-04-29.bmp'\n",
    "\n",
    "img = np.array(Image.open(path))\n",
    "img= img/255.\n",
    "print(img)\n",
    "plt.imshow(img, cmap='hot', interpolation='nearest')\n",
    "plt.show()\n",
    "\n",
    "print(img.shape)\n",
    "\n",
    "#r, c = img.shape\n"
   ]
  },
  {
   "cell_type": "code",
   "execution_count": null,
   "metadata": {},
   "outputs": [],
   "source": [
    "# Size of the heatmap\n",
    "heatmap_size = 1000\n",
    "\n",
    "# Number of random center points\n",
    "num_centers = 5\n",
    "\n",
    "# Generate a random 2D array\n",
    "heatmap = np.random.rand(heatmap_size, heatmap_size)\n",
    "\n",
    "print(heatmap)\n",
    "\n",
    "# Generate random center points\n",
    "center_points = np.random.randint(0, heatmap_size, size=(num_centers, 2))\n",
    "\n",
    "# Apply circular gradients around center points\n",
    "for center in center_points:\n",
    "    center_intensity = np.random.rand()\n",
    "    radius_factor = np.random.uniform(1, 2)\n",
    "    region_radius = int(radius_factor * heatmap_size / 10)\n",
    "\n",
    "    for i in range(heatmap_size):\n",
    "        for j in range(heatmap_size):\n",
    "            distance = np.sqrt((i - center[0])**2 + (j - center[1])**2)\n",
    "            gradient_value = center_intensity - distance / region_radius\n",
    "            heatmap[i, j] += max(0, gradient_value)  # Ensure values are not below zero\n",
    "\n",
    "# Normalize values to be in the range [0, 1]\n",
    "heatmap = np.clip(heatmap, 0, 1)\n",
    "\n",
    "# Create a heatmap using a colormap (e.g., 'viridis')\n",
    "plt.imshow(heatmap, cmap='plasma', interpolation='nearest')\n",
    "plt.colorbar()\n",
    "plt.title('Random Heatmap with Circular Gradients')\n",
    "plt.xlabel('X-axis')\n",
    "plt.ylabel('Y-axis')\n",
    "plt.show()\n",
    "\n",
    "# this is the random heatmap that has some random hotspots"
   ]
  },
  {
   "cell_type": "code",
   "execution_count": null,
   "metadata": {},
   "outputs": [],
   "source": [
    "# takes in a numpy array (1000x1000) and block size\n",
    "def blockedVals(array, jump_Size):\n",
    "    r = len(array)\n",
    "    c = len(array[0])\n",
    "\n",
    "    array1 = np.arange(0,r,jump_Size)[:200]\n",
    "    array2 = np.arange(0,c,jump_Size)[:200]\n",
    "    for i in array1:\n",
    "        for j in array2:\n",
    "            blockSum = 0\n",
    "            for i2 in range(jump_Size):\n",
    "                for j2 in range(jump_Size):\n",
    "                    blockSum += img[i+i2][j+j2]\n",
    "            print(blockSum/(jump_Size*jump_Size))\n",
    "\n",
    "blockedVals(heatmap,5)"
   ]
  }
 ],
 "metadata": {
  "language_info": {
   "name": "python"
  }
 },
 "nbformat": 4,
 "nbformat_minor": 2
}
