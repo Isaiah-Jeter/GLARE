{
 "cells": [
  {
   "cell_type": "code",
   "execution_count": null,
   "metadata": {},
   "outputs": [],
   "source": [
    "import numpy as np\n",
    "from PIL import ImageGrab, Image\n",
    "import matplotlib.pyplot as plt\n",
    "\n",
    "path = '/Users/christianjohnson/Downloads/Image__2024-01-18__20-04-29.bmp'\n",
    "\n",
    "img = np.array(Image.open(path))\n",
    "img= img/255.\n",
    "print(img)\n",
    "plt.imshow(img, cmap='hot', interpolation='nearest')\n",
    "plt.show()\n",
    "\n",
    "print(img.shape)\n",
    "\n",
    "#r, c = img.shape\n"
   ]
  },
  {
   "cell_type": "code",
   "execution_count": 2,
   "metadata": {},
   "outputs": [
    {
     "ename": "NameError",
     "evalue": "name 'np' is not defined",
     "output_type": "error",
     "traceback": [
      "\u001b[0;31m---------------------------------------------------------------------------\u001b[0m",
      "\u001b[0;31mNameError\u001b[0m                                 Traceback (most recent call last)",
      "\u001b[1;32m/Users/Loaner/Desktop/GLARE/glare.ipynb Cell 2\u001b[0m line \u001b[0;36m8\n\u001b[1;32m      <a href='vscode-notebook-cell:/Users/Loaner/Desktop/GLARE/glare.ipynb#W1sZmlsZQ%3D%3D?line=4'>5</a>\u001b[0m num_centers \u001b[39m=\u001b[39m \u001b[39m5\u001b[39m\n\u001b[1;32m      <a href='vscode-notebook-cell:/Users/Loaner/Desktop/GLARE/glare.ipynb#W1sZmlsZQ%3D%3D?line=6'>7</a>\u001b[0m \u001b[39m# Generate a random 2D array\u001b[39;00m\n\u001b[0;32m----> <a href='vscode-notebook-cell:/Users/Loaner/Desktop/GLARE/glare.ipynb#W1sZmlsZQ%3D%3D?line=7'>8</a>\u001b[0m heatmap \u001b[39m=\u001b[39m np\u001b[39m.\u001b[39mrandom\u001b[39m.\u001b[39mrand(heatmap_size, heatmap_size)\n\u001b[1;32m     <a href='vscode-notebook-cell:/Users/Loaner/Desktop/GLARE/glare.ipynb#W1sZmlsZQ%3D%3D?line=9'>10</a>\u001b[0m \u001b[39mprint\u001b[39m(heatmap)\n\u001b[1;32m     <a href='vscode-notebook-cell:/Users/Loaner/Desktop/GLARE/glare.ipynb#W1sZmlsZQ%3D%3D?line=11'>12</a>\u001b[0m \u001b[39m# Generate random center points\u001b[39;00m\n",
      "\u001b[0;31mNameError\u001b[0m: name 'np' is not defined"
     ]
    }
   ],
   "source": [
    "# Size of the heatmap\n",
    "heatmap_size = 1000\n",
    "\n",
    "# Number of random center points\n",
    "num_centers = 5\n",
    "\n",
    "# Generate a random 2D array\n",
    "heatmap = np.random.rand(heatmap_size, heatmap_size)\n",
    "\n",
    "print(heatmap)\n",
    "\n",
    "# Generate random center points\n",
    "center_points = np.random.randint(0, heatmap_size, size=(num_centers, 2))\n",
    "\n",
    "# Apply circular gradients around center points\n",
    "for center in center_points:\n",
    "    center_intensity = np.random.rand()\n",
    "    radius_factor = np.random.uniform(1, 2)\n",
    "    region_radius = int(radius_factor * heatmap_size / 10)\n",
    "\n",
    "    for i in range(heatmap_size):\n",
    "        for j in range(heatmap_size):\n",
    "            distance = np.sqrt((i - center[0])**2 + (j - center[1])**2)\n",
    "            gradient_value = center_intensity - distance / region_radius\n",
    "            heatmap[i, j] += max(0, gradient_value)  # Ensure values are not below zero\n",
    "\n",
    "# Normalize values to be in the range [0, 1]\n",
    "heatmap = np.clip(heatmap, 0, 1)\n",
    "\n",
    "# Create a heatmap using a colormap (e.g., 'viridis')\n",
    "plt.imshow(heatmap, cmap='plasma', interpolation='nearest')\n",
    "plt.colorbar()\n",
    "plt.title('Random Heatmap with Circular Gradients')\n",
    "plt.xlabel('X-axis')\n",
    "plt.ylabel('Y-axis')\n",
    "plt.show()\n",
    "\n",
    "# this is the random heatmap that has some random hotspots"
   ]
  },
  {
   "cell_type": "code",
   "execution_count": 1,
   "metadata": {},
   "outputs": [
    {
     "ename": "NameError",
     "evalue": "name 'heatmap' is not defined",
     "output_type": "error",
     "traceback": [
      "\u001b[0;31m---------------------------------------------------------------------------\u001b[0m",
      "\u001b[0;31mNameError\u001b[0m                                 Traceback (most recent call last)",
      "\u001b[1;32m/Users/Loaner/Desktop/GLARE/glare.ipynb Cell 3\u001b[0m line \u001b[0;36m1\n\u001b[1;32m     <a href='vscode-notebook-cell:/Users/Loaner/Desktop/GLARE/glare.ipynb#W2sZmlsZQ%3D%3D?line=15'>16</a>\u001b[0m             \u001b[39m#print(blockSum/(jump_Size*jump_Size))\u001b[39;00m\n\u001b[1;32m     <a href='vscode-notebook-cell:/Users/Loaner/Desktop/GLARE/glare.ipynb#W2sZmlsZQ%3D%3D?line=16'>17</a>\u001b[0m     \u001b[39mprint\u001b[39m(\u001b[39mmax\u001b[39m)\n\u001b[0;32m---> <a href='vscode-notebook-cell:/Users/Loaner/Desktop/GLARE/glare.ipynb#W2sZmlsZQ%3D%3D?line=18'>19</a>\u001b[0m blockedVals(heatmap,\u001b[39m5\u001b[39m)\n",
      "\u001b[0;31mNameError\u001b[0m: name 'heatmap' is not defined"
     ]
    }
   ],
   "source": [
    "# takes in a numpy array (1000x1000) and block size\n",
    "def blockedVals(array, jump_Size):\n",
    "    r = len(array)\n",
    "    c = len(array[0])\n",
    "    max=0;\n",
    "    array1 = np.arange(0,r,jump_Size)[:200]\n",
    "    array2 = np.arange(0,c,jump_Size)[:200]\n",
    "    coord=(0,0)\n",
    "    for i in array1:\n",
    "        for j in array2:\n",
    "            blockSum = 0\n",
    "            for i2 in range(jump_Size):\n",
    "                for j2 in range(jump_Size):\n",
    "                    blockSum += img[i+i2][j+j2]\n",
    "            if(blockSum/(jump_Size*jump_Size)>max):\n",
    "                max=(blockSum/(jump_Size*jump_Size))\n",
    "                coord=(i,j)\n",
    "            #print(blockSum/(jump_Size*jump_Size))\n",
    "    print(max)\n",
    "    return(coord)\n",
    "\n",
    "coord=blockedVals(heatmap,5)\n",
    "for i in range(5):\n",
    "    for j in range(5):\n",
    "        img[(coord[0]+i),(coord[1]+j)]=(img[(coord[0]+i),(coord[1]+j)])%50\n",
    "\n",
    "img=img*255\n",
    "im = Image.fromarray(img)\n",
    "im.save(\"final product\")\n"
   ]
  }
 ],
 "metadata": {
  "kernelspec": {
   "display_name": "Python 3",
   "language": "python",
   "name": "python3"
  },
  "language_info": {
   "codemirror_mode": {
    "name": "ipython",
    "version": 3
   },
   "file_extension": ".py",
   "mimetype": "text/x-python",
   "name": "python",
   "nbconvert_exporter": "python",
   "pygments_lexer": "ipython3",
   "version": "3.9.6"
  }
 },
 "nbformat": 4,
 "nbformat_minor": 2
}
